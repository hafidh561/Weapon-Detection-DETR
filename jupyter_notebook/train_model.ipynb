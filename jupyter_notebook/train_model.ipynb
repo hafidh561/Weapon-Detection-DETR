{
  "nbformat": 4,
  "nbformat_minor": 0,
  "metadata": {
    "colab": {
      "name": "Vortex_Object_Detection.ipynb",
      "provenance": [],
      "collapsed_sections": []
    },
    "kernelspec": {
      "name": "python3",
      "display_name": "Python 3"
    },
    "language_info": {
      "name": "python"
    },
    "accelerator": "GPU",
    "widgets": {
      "application/vnd.jupyter.widget-state+json": {
        "5b5fd18494c141ac93dc90b3954fc985": {
          "model_module": "@jupyter-widgets/controls",
          "model_name": "HBoxModel",
          "model_module_version": "1.5.0",
          "state": {
            "_view_name": "HBoxView",
            "_dom_classes": [],
            "_model_name": "HBoxModel",
            "_view_module": "@jupyter-widgets/controls",
            "_model_module_version": "1.5.0",
            "_view_count": null,
            "_view_module_version": "1.5.0",
            "box_style": "",
            "layout": "IPY_MODEL_39c5b37099604781a24bdd75943744b3",
            "_model_module": "@jupyter-widgets/controls",
            "children": [
              "IPY_MODEL_63cb999ab93947b3b569455e57997565",
              "IPY_MODEL_39eed6b7a9de46e181d4eca7e8c98998"
            ]
          }
        },
        "39c5b37099604781a24bdd75943744b3": {
          "model_module": "@jupyter-widgets/base",
          "model_name": "LayoutModel",
          "model_module_version": "1.2.0",
          "state": {
            "_view_name": "LayoutView",
            "grid_template_rows": null,
            "right": null,
            "justify_content": null,
            "_view_module": "@jupyter-widgets/base",
            "overflow": null,
            "_model_module_version": "1.2.0",
            "_view_count": null,
            "flex_flow": "row wrap",
            "width": "100%",
            "min_width": null,
            "border": null,
            "align_items": null,
            "bottom": null,
            "_model_module": "@jupyter-widgets/base",
            "top": null,
            "grid_column": null,
            "overflow_y": null,
            "overflow_x": null,
            "grid_auto_flow": null,
            "grid_area": null,
            "grid_template_columns": null,
            "flex": null,
            "_model_name": "LayoutModel",
            "justify_items": null,
            "grid_row": null,
            "max_height": null,
            "align_content": null,
            "visibility": null,
            "align_self": null,
            "height": null,
            "min_height": null,
            "padding": null,
            "grid_auto_rows": null,
            "grid_gap": null,
            "max_width": null,
            "order": null,
            "_view_module_version": "1.2.0",
            "grid_template_areas": null,
            "object_position": null,
            "object_fit": null,
            "grid_auto_columns": null,
            "margin": null,
            "display": "inline-flex",
            "left": null
          }
        },
        "63cb999ab93947b3b569455e57997565": {
          "model_module": "@jupyter-widgets/controls",
          "model_name": "FloatProgressModel",
          "model_module_version": "1.5.0",
          "state": {
            "_view_name": "ProgressView",
            "style": "IPY_MODEL_55b7ad6b85034bccab92f79938ee77d7",
            "_dom_classes": [],
            "description": "Validation sanity check: 100%",
            "_model_name": "FloatProgressModel",
            "bar_style": "info",
            "max": 1,
            "_view_module": "@jupyter-widgets/controls",
            "_model_module_version": "1.5.0",
            "value": 1,
            "_view_count": null,
            "_view_module_version": "1.5.0",
            "orientation": "horizontal",
            "min": 0,
            "description_tooltip": null,
            "_model_module": "@jupyter-widgets/controls",
            "layout": "IPY_MODEL_fac211276e99450abeab417dd0f24dc9"
          }
        },
        "39eed6b7a9de46e181d4eca7e8c98998": {
          "model_module": "@jupyter-widgets/controls",
          "model_name": "HTMLModel",
          "model_module_version": "1.5.0",
          "state": {
            "_view_name": "HTMLView",
            "style": "IPY_MODEL_cafaa54815d54a49b6f913664c8fc84a",
            "_dom_classes": [],
            "description": "",
            "_model_name": "HTMLModel",
            "placeholder": "​",
            "_view_module": "@jupyter-widgets/controls",
            "_model_module_version": "1.5.0",
            "value": " 2/2 [00:07&lt;00:00,  3.92s/it]",
            "_view_count": null,
            "_view_module_version": "1.5.0",
            "description_tooltip": null,
            "_model_module": "@jupyter-widgets/controls",
            "layout": "IPY_MODEL_a1085324981c4f51b2542c4d09e56ea7"
          }
        },
        "55b7ad6b85034bccab92f79938ee77d7": {
          "model_module": "@jupyter-widgets/controls",
          "model_name": "ProgressStyleModel",
          "model_module_version": "1.5.0",
          "state": {
            "_view_name": "StyleView",
            "_model_name": "ProgressStyleModel",
            "description_width": "initial",
            "_view_module": "@jupyter-widgets/base",
            "_model_module_version": "1.5.0",
            "_view_count": null,
            "_view_module_version": "1.2.0",
            "bar_color": null,
            "_model_module": "@jupyter-widgets/controls"
          }
        },
        "fac211276e99450abeab417dd0f24dc9": {
          "model_module": "@jupyter-widgets/base",
          "model_name": "LayoutModel",
          "model_module_version": "1.2.0",
          "state": {
            "_view_name": "LayoutView",
            "grid_template_rows": null,
            "right": null,
            "justify_content": null,
            "_view_module": "@jupyter-widgets/base",
            "overflow": null,
            "_model_module_version": "1.2.0",
            "_view_count": null,
            "flex_flow": null,
            "width": null,
            "min_width": null,
            "border": null,
            "align_items": null,
            "bottom": null,
            "_model_module": "@jupyter-widgets/base",
            "top": null,
            "grid_column": null,
            "overflow_y": null,
            "overflow_x": null,
            "grid_auto_flow": null,
            "grid_area": null,
            "grid_template_columns": null,
            "flex": "2",
            "_model_name": "LayoutModel",
            "justify_items": null,
            "grid_row": null,
            "max_height": null,
            "align_content": null,
            "visibility": null,
            "align_self": null,
            "height": null,
            "min_height": null,
            "padding": null,
            "grid_auto_rows": null,
            "grid_gap": null,
            "max_width": null,
            "order": null,
            "_view_module_version": "1.2.0",
            "grid_template_areas": null,
            "object_position": null,
            "object_fit": null,
            "grid_auto_columns": null,
            "margin": null,
            "display": null,
            "left": null
          }
        },
        "cafaa54815d54a49b6f913664c8fc84a": {
          "model_module": "@jupyter-widgets/controls",
          "model_name": "DescriptionStyleModel",
          "model_module_version": "1.5.0",
          "state": {
            "_view_name": "StyleView",
            "_model_name": "DescriptionStyleModel",
            "description_width": "",
            "_view_module": "@jupyter-widgets/base",
            "_model_module_version": "1.5.0",
            "_view_count": null,
            "_view_module_version": "1.2.0",
            "_model_module": "@jupyter-widgets/controls"
          }
        },
        "a1085324981c4f51b2542c4d09e56ea7": {
          "model_module": "@jupyter-widgets/base",
          "model_name": "LayoutModel",
          "model_module_version": "1.2.0",
          "state": {
            "_view_name": "LayoutView",
            "grid_template_rows": null,
            "right": null,
            "justify_content": null,
            "_view_module": "@jupyter-widgets/base",
            "overflow": null,
            "_model_module_version": "1.2.0",
            "_view_count": null,
            "flex_flow": null,
            "width": null,
            "min_width": null,
            "border": null,
            "align_items": null,
            "bottom": null,
            "_model_module": "@jupyter-widgets/base",
            "top": null,
            "grid_column": null,
            "overflow_y": null,
            "overflow_x": null,
            "grid_auto_flow": null,
            "grid_area": null,
            "grid_template_columns": null,
            "flex": null,
            "_model_name": "LayoutModel",
            "justify_items": null,
            "grid_row": null,
            "max_height": null,
            "align_content": null,
            "visibility": null,
            "align_self": null,
            "height": null,
            "min_height": null,
            "padding": null,
            "grid_auto_rows": null,
            "grid_gap": null,
            "max_width": null,
            "order": null,
            "_view_module_version": "1.2.0",
            "grid_template_areas": null,
            "object_position": null,
            "object_fit": null,
            "grid_auto_columns": null,
            "margin": null,
            "display": null,
            "left": null
          }
        },
        "e120ba646bdf48168413f0db06e000cd": {
          "model_module": "@jupyter-widgets/controls",
          "model_name": "HBoxModel",
          "model_module_version": "1.5.0",
          "state": {
            "_view_name": "HBoxView",
            "_dom_classes": [],
            "_model_name": "HBoxModel",
            "_view_module": "@jupyter-widgets/controls",
            "_model_module_version": "1.5.0",
            "_view_count": null,
            "_view_module_version": "1.5.0",
            "box_style": "",
            "layout": "IPY_MODEL_f871e02273084d75a39c95cb27dd0c87",
            "_model_module": "@jupyter-widgets/controls",
            "children": [
              "IPY_MODEL_7cbc0d73c37748cfbd5c41707402062e",
              "IPY_MODEL_fc133d488f9c46c6b1faee479190b8e0"
            ]
          }
        },
        "f871e02273084d75a39c95cb27dd0c87": {
          "model_module": "@jupyter-widgets/base",
          "model_name": "LayoutModel",
          "model_module_version": "1.2.0",
          "state": {
            "_view_name": "LayoutView",
            "grid_template_rows": null,
            "right": null,
            "justify_content": null,
            "_view_module": "@jupyter-widgets/base",
            "overflow": null,
            "_model_module_version": "1.2.0",
            "_view_count": null,
            "flex_flow": "row wrap",
            "width": "100%",
            "min_width": null,
            "border": null,
            "align_items": null,
            "bottom": null,
            "_model_module": "@jupyter-widgets/base",
            "top": null,
            "grid_column": null,
            "overflow_y": null,
            "overflow_x": null,
            "grid_auto_flow": null,
            "grid_area": null,
            "grid_template_columns": null,
            "flex": null,
            "_model_name": "LayoutModel",
            "justify_items": null,
            "grid_row": null,
            "max_height": null,
            "align_content": null,
            "visibility": null,
            "align_self": null,
            "height": null,
            "min_height": null,
            "padding": null,
            "grid_auto_rows": null,
            "grid_gap": null,
            "max_width": null,
            "order": null,
            "_view_module_version": "1.2.0",
            "grid_template_areas": null,
            "object_position": null,
            "object_fit": null,
            "grid_auto_columns": null,
            "margin": null,
            "display": "inline-flex",
            "left": null
          }
        },
        "7cbc0d73c37748cfbd5c41707402062e": {
          "model_module": "@jupyter-widgets/controls",
          "model_name": "FloatProgressModel",
          "model_module_version": "1.5.0",
          "state": {
            "_view_name": "ProgressView",
            "style": "IPY_MODEL_29761b9a7d554268820145a0b06e78e7",
            "_dom_classes": [],
            "description": "Epoch 1: 100%",
            "_model_name": "FloatProgressModel",
            "bar_style": "success",
            "max": 364,
            "_view_module": "@jupyter-widgets/controls",
            "_model_module_version": "1.5.0",
            "value": 364,
            "_view_count": null,
            "_view_module_version": "1.5.0",
            "orientation": "horizontal",
            "min": 0,
            "description_tooltip": null,
            "_model_module": "@jupyter-widgets/controls",
            "layout": "IPY_MODEL_8e952a965c124046943b607002148ffe"
          }
        },
        "fc133d488f9c46c6b1faee479190b8e0": {
          "model_module": "@jupyter-widgets/controls",
          "model_name": "HTMLModel",
          "model_module_version": "1.5.0",
          "state": {
            "_view_name": "HTMLView",
            "style": "IPY_MODEL_319ba7004cec47059c41d0b267ce4b5e",
            "_dom_classes": [],
            "description": "",
            "_model_name": "HTMLModel",
            "placeholder": "​",
            "_view_module": "@jupyter-widgets/controls",
            "_model_module_version": "1.5.0",
            "value": " 364/364 [15:04&lt;00:00,  2.49s/it, loss=7.82, v_num=13, mean AP=0, mean AP (50)=0, mean AP (75)=0, train_loss_step=7.69, train_loss_epoch=7.99]",
            "_view_count": null,
            "_view_module_version": "1.5.0",
            "description_tooltip": null,
            "_model_module": "@jupyter-widgets/controls",
            "layout": "IPY_MODEL_889f1e474e544cb180170441bbed5c86"
          }
        },
        "29761b9a7d554268820145a0b06e78e7": {
          "model_module": "@jupyter-widgets/controls",
          "model_name": "ProgressStyleModel",
          "model_module_version": "1.5.0",
          "state": {
            "_view_name": "StyleView",
            "_model_name": "ProgressStyleModel",
            "description_width": "initial",
            "_view_module": "@jupyter-widgets/base",
            "_model_module_version": "1.5.0",
            "_view_count": null,
            "_view_module_version": "1.2.0",
            "bar_color": null,
            "_model_module": "@jupyter-widgets/controls"
          }
        },
        "8e952a965c124046943b607002148ffe": {
          "model_module": "@jupyter-widgets/base",
          "model_name": "LayoutModel",
          "model_module_version": "1.2.0",
          "state": {
            "_view_name": "LayoutView",
            "grid_template_rows": null,
            "right": null,
            "justify_content": null,
            "_view_module": "@jupyter-widgets/base",
            "overflow": null,
            "_model_module_version": "1.2.0",
            "_view_count": null,
            "flex_flow": null,
            "width": null,
            "min_width": null,
            "border": null,
            "align_items": null,
            "bottom": null,
            "_model_module": "@jupyter-widgets/base",
            "top": null,
            "grid_column": null,
            "overflow_y": null,
            "overflow_x": null,
            "grid_auto_flow": null,
            "grid_area": null,
            "grid_template_columns": null,
            "flex": "2",
            "_model_name": "LayoutModel",
            "justify_items": null,
            "grid_row": null,
            "max_height": null,
            "align_content": null,
            "visibility": null,
            "align_self": null,
            "height": null,
            "min_height": null,
            "padding": null,
            "grid_auto_rows": null,
            "grid_gap": null,
            "max_width": null,
            "order": null,
            "_view_module_version": "1.2.0",
            "grid_template_areas": null,
            "object_position": null,
            "object_fit": null,
            "grid_auto_columns": null,
            "margin": null,
            "display": null,
            "left": null
          }
        },
        "319ba7004cec47059c41d0b267ce4b5e": {
          "model_module": "@jupyter-widgets/controls",
          "model_name": "DescriptionStyleModel",
          "model_module_version": "1.5.0",
          "state": {
            "_view_name": "StyleView",
            "_model_name": "DescriptionStyleModel",
            "description_width": "",
            "_view_module": "@jupyter-widgets/base",
            "_model_module_version": "1.5.0",
            "_view_count": null,
            "_view_module_version": "1.2.0",
            "_model_module": "@jupyter-widgets/controls"
          }
        },
        "889f1e474e544cb180170441bbed5c86": {
          "model_module": "@jupyter-widgets/base",
          "model_name": "LayoutModel",
          "model_module_version": "1.2.0",
          "state": {
            "_view_name": "LayoutView",
            "grid_template_rows": null,
            "right": null,
            "justify_content": null,
            "_view_module": "@jupyter-widgets/base",
            "overflow": null,
            "_model_module_version": "1.2.0",
            "_view_count": null,
            "flex_flow": null,
            "width": null,
            "min_width": null,
            "border": null,
            "align_items": null,
            "bottom": null,
            "_model_module": "@jupyter-widgets/base",
            "top": null,
            "grid_column": null,
            "overflow_y": null,
            "overflow_x": null,
            "grid_auto_flow": null,
            "grid_area": null,
            "grid_template_columns": null,
            "flex": null,
            "_model_name": "LayoutModel",
            "justify_items": null,
            "grid_row": null,
            "max_height": null,
            "align_content": null,
            "visibility": null,
            "align_self": null,
            "height": null,
            "min_height": null,
            "padding": null,
            "grid_auto_rows": null,
            "grid_gap": null,
            "max_width": null,
            "order": null,
            "_view_module_version": "1.2.0",
            "grid_template_areas": null,
            "object_position": null,
            "object_fit": null,
            "grid_auto_columns": null,
            "margin": null,
            "display": null,
            "left": null
          }
        },
        "a46502e9f22c4dd0a6e144288e922a01": {
          "model_module": "@jupyter-widgets/controls",
          "model_name": "HBoxModel",
          "model_module_version": "1.5.0",
          "state": {
            "_view_name": "HBoxView",
            "_dom_classes": [],
            "_model_name": "HBoxModel",
            "_view_module": "@jupyter-widgets/controls",
            "_model_module_version": "1.5.0",
            "_view_count": null,
            "_view_module_version": "1.5.0",
            "box_style": "",
            "layout": "IPY_MODEL_ac83187797f94403ab48b6a83a1ebac3",
            "_model_module": "@jupyter-widgets/controls",
            "children": [
              "IPY_MODEL_074c52d8a8504069a74373af6598cbd6",
              "IPY_MODEL_d227c0b959d748dc8852943f011fdc20"
            ]
          }
        },
        "ac83187797f94403ab48b6a83a1ebac3": {
          "model_module": "@jupyter-widgets/base",
          "model_name": "LayoutModel",
          "model_module_version": "1.2.0",
          "state": {
            "_view_name": "LayoutView",
            "grid_template_rows": null,
            "right": null,
            "justify_content": null,
            "_view_module": "@jupyter-widgets/base",
            "overflow": null,
            "_model_module_version": "1.2.0",
            "_view_count": null,
            "flex_flow": "row wrap",
            "width": "100%",
            "min_width": null,
            "border": null,
            "align_items": null,
            "bottom": null,
            "_model_module": "@jupyter-widgets/base",
            "top": null,
            "grid_column": null,
            "overflow_y": null,
            "overflow_x": null,
            "grid_auto_flow": null,
            "grid_area": null,
            "grid_template_columns": null,
            "flex": null,
            "_model_name": "LayoutModel",
            "justify_items": null,
            "grid_row": null,
            "max_height": null,
            "align_content": null,
            "visibility": null,
            "align_self": null,
            "height": null,
            "min_height": null,
            "padding": null,
            "grid_auto_rows": null,
            "grid_gap": null,
            "max_width": null,
            "order": null,
            "_view_module_version": "1.2.0",
            "grid_template_areas": null,
            "object_position": null,
            "object_fit": null,
            "grid_auto_columns": null,
            "margin": null,
            "display": "inline-flex",
            "left": null
          }
        },
        "074c52d8a8504069a74373af6598cbd6": {
          "model_module": "@jupyter-widgets/controls",
          "model_name": "FloatProgressModel",
          "model_module_version": "1.5.0",
          "state": {
            "_view_name": "ProgressView",
            "style": "IPY_MODEL_f4fe65559fc64b4ca1f15189fdfea510",
            "_dom_classes": [],
            "description": "",
            "_model_name": "FloatProgressModel",
            "bar_style": "info",
            "max": 1,
            "_view_module": "@jupyter-widgets/controls",
            "_model_module_version": "1.5.0",
            "value": 0,
            "_view_count": null,
            "_view_module_version": "1.5.0",
            "orientation": "horizontal",
            "min": 0,
            "description_tooltip": null,
            "_model_module": "@jupyter-widgets/controls",
            "layout": "IPY_MODEL_4ff5883a0571471196a6b5433cfc5928"
          }
        },
        "d227c0b959d748dc8852943f011fdc20": {
          "model_module": "@jupyter-widgets/controls",
          "model_name": "HTMLModel",
          "model_module_version": "1.5.0",
          "state": {
            "_view_name": "HTMLView",
            "style": "IPY_MODEL_7ff85f402fa041ca93cf4b76a2efb6c7",
            "_dom_classes": [],
            "description": "",
            "_model_name": "HTMLModel",
            "placeholder": "​",
            "_view_module": "@jupyter-widgets/controls",
            "_model_module_version": "1.5.0",
            "value": "Validating: 0it [05:12, ?it/s]",
            "_view_count": null,
            "_view_module_version": "1.5.0",
            "description_tooltip": null,
            "_model_module": "@jupyter-widgets/controls",
            "layout": "IPY_MODEL_73c3f77ffe1241a68cceb063275516f7"
          }
        },
        "f4fe65559fc64b4ca1f15189fdfea510": {
          "model_module": "@jupyter-widgets/controls",
          "model_name": "ProgressStyleModel",
          "model_module_version": "1.5.0",
          "state": {
            "_view_name": "StyleView",
            "_model_name": "ProgressStyleModel",
            "description_width": "initial",
            "_view_module": "@jupyter-widgets/base",
            "_model_module_version": "1.5.0",
            "_view_count": null,
            "_view_module_version": "1.2.0",
            "bar_color": null,
            "_model_module": "@jupyter-widgets/controls"
          }
        },
        "4ff5883a0571471196a6b5433cfc5928": {
          "model_module": "@jupyter-widgets/base",
          "model_name": "LayoutModel",
          "model_module_version": "1.2.0",
          "state": {
            "_view_name": "LayoutView",
            "grid_template_rows": null,
            "right": null,
            "justify_content": null,
            "_view_module": "@jupyter-widgets/base",
            "overflow": null,
            "_model_module_version": "1.2.0",
            "_view_count": null,
            "flex_flow": null,
            "width": null,
            "min_width": null,
            "border": null,
            "align_items": null,
            "bottom": null,
            "_model_module": "@jupyter-widgets/base",
            "top": null,
            "grid_column": null,
            "overflow_y": null,
            "overflow_x": null,
            "grid_auto_flow": null,
            "grid_area": null,
            "grid_template_columns": null,
            "flex": "2",
            "_model_name": "LayoutModel",
            "justify_items": null,
            "grid_row": null,
            "max_height": null,
            "align_content": null,
            "visibility": null,
            "align_self": null,
            "height": null,
            "min_height": null,
            "padding": null,
            "grid_auto_rows": null,
            "grid_gap": null,
            "max_width": null,
            "order": null,
            "_view_module_version": "1.2.0",
            "grid_template_areas": null,
            "object_position": null,
            "object_fit": null,
            "grid_auto_columns": null,
            "margin": null,
            "display": null,
            "left": null
          }
        },
        "7ff85f402fa041ca93cf4b76a2efb6c7": {
          "model_module": "@jupyter-widgets/controls",
          "model_name": "DescriptionStyleModel",
          "model_module_version": "1.5.0",
          "state": {
            "_view_name": "StyleView",
            "_model_name": "DescriptionStyleModel",
            "description_width": "",
            "_view_module": "@jupyter-widgets/base",
            "_model_module_version": "1.5.0",
            "_view_count": null,
            "_view_module_version": "1.2.0",
            "_model_module": "@jupyter-widgets/controls"
          }
        },
        "73c3f77ffe1241a68cceb063275516f7": {
          "model_module": "@jupyter-widgets/base",
          "model_name": "LayoutModel",
          "model_module_version": "1.2.0",
          "state": {
            "_view_name": "LayoutView",
            "grid_template_rows": null,
            "right": null,
            "justify_content": null,
            "_view_module": "@jupyter-widgets/base",
            "overflow": null,
            "_model_module_version": "1.2.0",
            "_view_count": null,
            "flex_flow": null,
            "width": null,
            "min_width": null,
            "border": null,
            "align_items": null,
            "bottom": null,
            "_model_module": "@jupyter-widgets/base",
            "top": null,
            "grid_column": null,
            "overflow_y": null,
            "overflow_x": null,
            "grid_auto_flow": null,
            "grid_area": null,
            "grid_template_columns": null,
            "flex": null,
            "_model_name": "LayoutModel",
            "justify_items": null,
            "grid_row": null,
            "max_height": null,
            "align_content": null,
            "visibility": null,
            "align_self": null,
            "height": null,
            "min_height": null,
            "padding": null,
            "grid_auto_rows": null,
            "grid_gap": null,
            "max_width": null,
            "order": null,
            "_view_module_version": "1.2.0",
            "grid_template_areas": null,
            "object_position": null,
            "object_fit": null,
            "grid_auto_columns": null,
            "margin": null,
            "display": null,
            "left": null
          }
        }
      }
    }
  },
  "cells": [
    {
      "cell_type": "code",
      "metadata": {
        "id": "CDt4RQ7W6E51"
      },
      "source": [
        "# !pip3 uninstall Pillow -y\n",
        "# !pip3 install Pillow\n",
        "# !pip uninstall Pillow -y\n",
        "# !pip install Pillow"
      ],
      "execution_count": 1,
      "outputs": []
    },
    {
      "cell_type": "code",
      "metadata": {
        "colab": {
          "base_uri": "https://localhost:8080/"
        },
        "id": "gQQtmuee6O5S",
        "outputId": "a472678d-e888-48f2-eeaf-b9d261ea1b7b"
      },
      "source": [
        "\"\"\"\n",
        "AFTER YOU RUN THIS CELL MAKE SURE\n",
        "YOU RESTART RUNTIME COLAB AND\n",
        "RUN IT AGAIN FROM FIRST CELL\n",
        "\"\"\"\n",
        "\n",
        "# Download all packages\n",
        "from google.colab import files, output\n",
        "\n",
        "!rm -rf vortex\n",
        "!git clone https://github.com/nodefluxio/vortex.git\n",
        "!cp -r vortex/examples/detr/module ./\n",
        "!cp vortex/examples/detr/config.yml ./\n",
        "!cd vortex && git checkout drop-enforce && pip install --ignore-installed --timeout=10000 ./src/development\n",
        "!cd vortex && pip install --ignore-installed --timeout=10000 ./src/runtime[onnxruntime]\n",
        "!pip install torchtext==0.7\n",
        "!pip install --force-reinstall tqdm==4.49\n",
        "!rm -rf vortex\n",
        "\n",
        "output.clear()\n",
        "print(\"Pakcages installed!\")"
      ],
      "execution_count": 2,
      "outputs": [
        {
          "output_type": "stream",
          "name": "stdout",
          "text": [
            "Pakcages installed!\n"
          ]
        }
      ]
    },
    {
      "cell_type": "code",
      "metadata": {
        "colab": {
          "base_uri": "https://localhost:8080/"
        },
        "id": "54VpqWu2EwhZ",
        "outputId": "11af28f3-b174-4ddb-ad88-c66eb5c96e87"
      },
      "source": [
        "%load_ext autoreload\n",
        "%autoreload 2\n",
        "%reload_ext autoreload\n",
        "import os\n",
        "import sys\n",
        "import cv2\n",
        "import yaml\n",
        "import onnx\n",
        "import torch\n",
        "import argparse\n",
        "import numpy as np\n",
        "import pytorch_lightning as pl\n",
        "import matplotlib.pyplot as plt\n",
        "import torch.nn.functional as F\n",
        "import vortex.runtime.onnx.graph_ops.embed_model_property as g\n",
        "from PIL import Image\n",
        "from copy import copy\n",
        "from pathlib import Path\n",
        "from torch import nn, optim\n",
        "from easydict import EasyDict\n",
        "from module.utils import collate_fn\n",
        "from module.model import build_model\n",
        "from vortex.runtime.helper import InferenceHelper\n",
        "from pytorch_lightning.callbacks import EarlyStopping\n",
        "from vortex.development.networks.models import ModelBase\n",
        "from module.dataset import build_dataset, BetterCOCO, COCODetection, VOCDetection, CocoEvaluator\n",
        "\n",
        "print(\"All packages loaded!\")"
      ],
      "execution_count": 73,
      "outputs": [
        {
          "output_type": "stream",
          "name": "stdout",
          "text": [
            "The autoreload extension is already loaded. To reload it, use:\n",
            "  %reload_ext autoreload\n",
            "All packages loaded!\n"
          ]
        }
      ]
    },
    {
      "cell_type": "code",
      "metadata": {
        "colab": {
          "resources": {
            "http://localhost:8080/nbextensions/google.colab/files.js": {
              "data": "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",
              "ok": true,
              "headers": [
                [
                  "content-type",
                  "application/javascript"
                ]
              ],
              "status": 200,
              "status_text": "OK"
            }
          },
          "base_uri": "https://localhost:8080/",
          "height": 36
        },
        "id": "tdHbjVYoIXru",
        "outputId": "89c484c8-707d-4635-ebad-d0c64bb7d84e"
      },
      "source": [
        "# Upload API files from kaggle\n",
        "!rm kaggle.json\n",
        "\n",
        "files.upload()\n",
        "output.clear()\n",
        "print(\"Files uploaded!\")"
      ],
      "execution_count": 4,
      "outputs": [
        {
          "output_type": "stream",
          "name": "stdout",
          "text": [
            "Files uploaded!\n"
          ]
        }
      ]
    },
    {
      "cell_type": "code",
      "metadata": {
        "colab": {
          "base_uri": "https://localhost:8080/"
        },
        "id": "amxsR2UyJq4y",
        "outputId": "1d2f8289-8379-44b2-acdc-f779ffaf0e33"
      },
      "source": [
        "# Connect colab to kaggle\n",
        "!mkdir -p ~/.kaggle\n",
        "!cp kaggle.json ~/.kaggle/\n",
        "!ls ~/.kaggle\n",
        "!chmod 600 /root/.kaggle/kaggle.json\n",
        "\n",
        "output.clear()\n",
        "print(\"Collab connected to Kaggle!\")"
      ],
      "execution_count": 5,
      "outputs": [
        {
          "output_type": "stream",
          "name": "stdout",
          "text": [
            "Collab connected to Kaggle!\n"
          ]
        }
      ]
    },
    {
      "cell_type": "code",
      "metadata": {
        "colab": {
          "base_uri": "https://localhost:8080/"
        },
        "id": "2rnCNl0vJuAK",
        "outputId": "c6f2ff82-8aa1-4bb4-c389-bebf7ad679c0"
      },
      "source": [
        "# Setup datasets\n",
        "!rm -rf Yolo-to-COCO-format-converter\n",
        "!git clone https://github.com/Taeyoung96/Yolo-to-COCO-format-converter.git\n",
        "!rm Yolo-to-COCO-format-converter/tutorial/train/*\n",
        "!rm Yolo-to-COCO-format-converter/output/*\n",
        "!echo Weapon > Yolo-to-COCO-format-converter/tutorial/obj.names\n",
        "\n",
        "!rm weapons-in-images-segmented-videos.zip\n",
        "!kaggle datasets download -d jubaerad/weapons-in-images-segmented-videos\n",
        "!rm -rf Weapons-in-Images\n",
        "!unzip weapons-in-images-segmented-videos.zip\n",
        "!rm weapons-in-images-segmented-videos.zip\n",
        "!rm -rf \"Weapon in Images (Segmented Video)\"\n",
        "!mv Weapons-in-Images/Weapons-in-Images/* Yolo-to-COCO-format-converter/tutorial/train/\n",
        "!rm -rf Weapons-in-Images\n",
        "\n",
        "all_data_weapons = os.listdir(\"./Yolo-to-COCO-format-converter/tutorial/train\")\n",
        "for data in all_data_weapons:\n",
        "    real_data, extension_data = data.split(\".\")\n",
        "    if extension_data == \"jpg\" and f\"{real_data}.txt\" not in all_data_weapons:\n",
        "        os.remove(f\"./Yolo-to-COCO-format-converter/tutorial/train/{data}\")\n",
        "\n",
        "!rm Yolo-to-COCO-format-converter/tutorial/train.txt\n",
        "image_files = []\n",
        "os.chdir(\"Yolo-to-COCO-format-converter/tutorial/train\")\n",
        "for filename in os.listdir(os.getcwd()):\n",
        "    if filename.endswith(\".jpg\"):\n",
        "        image_files.append(\"/content/Yolo-to-COCO-format-converter/tutorial/train/\" + filename)\n",
        "os.chdir(\"..\")\n",
        "with open(\"train.txt\", \"w\") as outfile:\n",
        "    for image in image_files:\n",
        "        outfile.write(image)\n",
        "        outfile.write(\"\\n\")\n",
        "    outfile.close()\n",
        "os.chdir(\"/content/\")\n",
        "\n",
        "output.clear()\n",
        "print(\"Datasets downloaded!\")"
      ],
      "execution_count": 6,
      "outputs": [
        {
          "output_type": "stream",
          "name": "stdout",
          "text": [
            "Datasets downloaded!\n"
          ]
        }
      ]
    },
    {
      "cell_type": "code",
      "metadata": {
        "colab": {
          "base_uri": "https://localhost:8080/",
          "height": 211
        },
        "id": "fT7oXkjRimlP",
        "outputId": "48eb3e80-0c80-48b4-d270-2e8e063daeb6"
      },
      "source": [
        "\"\"\"\n",
        "1. EDIT YOUR OWN CLASSES IN Yolo-to-COCO-format-converter/main.py\n",
        "2. EDIT config.yml TO COCO DATASETS, MAKE SURE SETTING THE ARGS\n",
        "3. UPLOAD YOUR TEST IMAGES\n",
        "\"\"\"\n",
        "assert False"
      ],
      "execution_count": 7,
      "outputs": [
        {
          "output_type": "error",
          "ename": "AssertionError",
          "evalue": "ignored",
          "traceback": [
            "\u001b[0;31m---------------------------------------------------------------------------\u001b[0m",
            "\u001b[0;31mAssertionError\u001b[0m                            Traceback (most recent call last)",
            "\u001b[0;32m<ipython-input-7-ec34b87787be>\u001b[0m in \u001b[0;36m<module>\u001b[0;34m()\u001b[0m\n\u001b[1;32m      4\u001b[0m \u001b[0;36m3.\u001b[0m \u001b[0mUPLOAD\u001b[0m \u001b[0mYOUR\u001b[0m \u001b[0mTEST\u001b[0m \u001b[0mIMAGES\u001b[0m\u001b[0;34m\u001b[0m\u001b[0;34m\u001b[0m\u001b[0m\n\u001b[1;32m      5\u001b[0m \"\"\"\n\u001b[0;32m----> 6\u001b[0;31m \u001b[0;32massert\u001b[0m \u001b[0;32mFalse\u001b[0m\u001b[0;34m\u001b[0m\u001b[0;34m\u001b[0m\u001b[0m\n\u001b[0m",
            "\u001b[0;31mAssertionError\u001b[0m: "
          ]
        }
      ]
    },
    {
      "cell_type": "code",
      "metadata": {
        "colab": {
          "base_uri": "https://localhost:8080/"
        },
        "id": "Y84gTL7Sdi76",
        "outputId": "8598b870-e918-411e-943f-a3c324193fa0"
      },
      "source": [
        "# Change yolo to coco datasets\n",
        "!cd Yolo-to-COCO-format-converter && python main.py --path /content/Yolo-to-COCO-format-converter/tutorial/train.txt \\\n",
        "--output train\n",
        "\n",
        "output.clear()\n",
        "print(\"Datasets changed to coco format!\")"
      ],
      "execution_count": 8,
      "outputs": [
        {
          "output_type": "stream",
          "name": "stdout",
          "text": [
            "Datasets changed to coco format!\n"
          ]
        }
      ]
    },
    {
      "cell_type": "code",
      "metadata": {
        "colab": {
          "base_uri": "https://localhost:8080/"
        },
        "id": "4MDwI2vtzZgk",
        "outputId": "e2d552ee-f178-4eb3-b901-fe56661d71c5"
      },
      "source": [
        "# Create new directory for coco datasets format\n",
        "!rm -rf datasets\n",
        "!mkdir -p datasets/{data,annotations}\n",
        "!mv Yolo-to-COCO-format-converter/output/train.json datasets/annotations/annotations.json\n",
        "!mv Yolo-to-COCO-format-converter/tutorial/train/*.jpg datasets/data\n",
        "!rm -rf Yolo-to-COCO-format-converter\n",
        "\n",
        "output.clear()\n",
        "print(\"Created new directory for coco datasets format!\")"
      ],
      "execution_count": 9,
      "outputs": [
        {
          "output_type": "stream",
          "name": "stdout",
          "text": [
            "Created new directory for coco datasets format!\n"
          ]
        }
      ]
    },
    {
      "cell_type": "code",
      "metadata": {
        "colab": {
          "base_uri": "https://localhost:8080/"
        },
        "id": "amVMurUU1waO",
        "outputId": "3a76f01e-6726-4dda-fb8e-8ca1b349204f"
      },
      "source": [
        "# Set up vortex\n",
        "class SuppressedPrints:\n",
        "    def __enter__(self):\n",
        "        self._original_stdout = sys.stdout\n",
        "        sys.stdout = open(os.devnull, 'w')\n",
        "\n",
        "    def __exit__(self, exc_type, exc_val, exc_tb):\n",
        "        sys.stdout.close()\n",
        "        sys.stdout = self._original_stdout\n",
        "\n",
        "class DataLoader(pl.LightningDataModule):\n",
        "    def __init__(self, args: dict):\n",
        "        super().__init__()\n",
        "        self.args = args['dataset']\n",
        "        self.loader_args = args['dataloader']\n",
        "        self.prepare_data()\n",
        "    \n",
        "    def prepare_data(self):\n",
        "        if not hasattr(self, 'train_dataset'):\n",
        "            self._init_train_set()\n",
        "        if not hasattr(self, 'val_dataset'):\n",
        "            self._init_val_set()\n",
        "\n",
        "    def _init_train_set(self):\n",
        "        args = self.args\n",
        "        args['args'].update({'image_set': 'train'})\n",
        "        self.train_dataset = build_dataset(**args)\n",
        "        if isinstance(self.train_dataset, VOCDetection):\n",
        "            self.num_classes = 2\n",
        "        elif isinstance(self.train_dataset, COCODetection):\n",
        "            self.num_classes = 2\n",
        "\n",
        "    def train_dataloader(self):\n",
        "        kwargs = self.loader_args\n",
        "        kwargs.update({'collate_fn': collate_fn})\n",
        "        return torch.utils.data.DataLoader(self.train_dataset, **kwargs)\n",
        "    \n",
        "    def _init_val_set(self):\n",
        "        args = self.args\n",
        "        args['args'].update({'image_set': 'train'})\n",
        "        self.val_dataset = build_dataset(**args)\n",
        "        if isinstance(self.val_dataset, VOCDetection):\n",
        "            filename = Path('tmp/coco_fmt.json')\n",
        "            filename.parent.mkdir(exist_ok=True, parents=True)\n",
        "            self.val_dataset.to_coco(filename=filename)\n",
        "            self.val_coco_fmt = BetterCOCO(filename)\n",
        "        else:\n",
        "            filename = args['args']['ann_file']\n",
        "            root = args['args']['img_folder']\n",
        "            self.val_coco_fmt = BetterCOCO(filename, root=root)\n",
        "\n",
        "    def val_dataloader(self):\n",
        "        kwargs = copy(self.loader_args)\n",
        "        kwargs.update(dict(\n",
        "            collate_fn=collate_fn,\n",
        "            shuffle=False\n",
        "        ))\n",
        "        return torch.utils.data.DataLoader(self.val_dataset, **kwargs)\n",
        "\n",
        "class DETR(ModelBase):\n",
        "    def __init__(self, args: dict, gt=None):\n",
        "        super().__init__()\n",
        "        args.setdefault('device', self.device)\n",
        "        args.setdefault('num_classes', 2)\n",
        "        args = EasyDict(args)\n",
        "        self.args = args\n",
        "        model, criterion, postprocessors = build_model(args)\n",
        "        self.model = model\n",
        "        self.criterion = criterion\n",
        "        self.postprocessors = postprocessors\n",
        "        self.init_evaluator(gt)\n",
        "    \n",
        "    def init_evaluator(self, gt=None):\n",
        "        self.gt = gt\n",
        "        self.coco_evaluator = CocoEvaluator(self.gt, ['bbox']) \\\n",
        "            if self.gt else None\n",
        "\n",
        "    def available_metrics(self):\n",
        "        return None\n",
        "\n",
        "    def output_format(self):\n",
        "        return {}\n",
        "\n",
        "    def predict(self, *args, **kwargs):\n",
        "        return self.model(*args,**kwargs)\n",
        "    \n",
        "    def forward(self, x):\n",
        "        return self.model(x)\n",
        "    \n",
        "    def training_step(self, batch, batch_idx):\n",
        "        x, y = batch\n",
        "        y_hat = self(x)\n",
        "        loss_dict = self.criterion(y_hat, y)\n",
        "        weight_dict = self.criterion.weight_dict\n",
        "        loss = sum(loss_dict[k] * weight_dict[k] for k in loss_dict.keys() if k in weight_dict)\n",
        "        self.log('train_loss', loss.detach(), on_step=True, on_epoch=True, prog_bar=True, logger=True)\n",
        "        return loss\n",
        "    \n",
        "    def validation_step(self, batch, batch_idx):\n",
        "        x, targets = batch\n",
        "        outputs = self(x)\n",
        "        loss_dict = self.criterion(outputs, targets)\n",
        "        weight_dict = self.criterion.weight_dict\n",
        "        loss = sum(loss_dict[k] * weight_dict[k] for k in loss_dict.keys() if k in weight_dict)\n",
        "        self.log('val_loss', loss.detach(), logger=True)\n",
        "        if self.coco_evaluator is None:\n",
        "            return\n",
        "        orig_target_sizes = torch.stack([t[\"orig_size\"] for t in targets], dim=0)\n",
        "        results = self.postprocessors['bbox'](outputs, orig_target_sizes)\n",
        "        if len(results) == 0:\n",
        "            return\n",
        "        res = {int(target['image_id']): output for target, output in zip(targets, results)}\n",
        "        self.coco_evaluator.update(res)\n",
        "    \n",
        "    def validation_epoch_end(self, validation_step_outputs):\n",
        "        coco_evaluator = self.coco_evaluator\n",
        "        if coco_evaluator is not None:\n",
        "            if len(coco_evaluator.eval_imgs['bbox']):\n",
        "                with SuppressedPrints():\n",
        "                    coco_evaluator.synchronize_between_processes()\n",
        "                    coco_evaluator.accumulate()\n",
        "                    coco_evaluator.summarize()\n",
        "                res = coco_evaluator.coco_eval['bbox'].stats.tolist()\n",
        "                params = coco_evaluator.coco_eval['bbox'].params\n",
        "                iou_low, iou_high = params.iouThrs[0], params.iouThrs[-1]\n",
        "                max_det_l, max_det_m, max_det_h = params.maxDets\n",
        "                legends = [\n",
        "                    f'(AP) @[ IoU={iou_low}:{iou_high} | area=   all | maxDets={max_det_h} ]',\n",
        "                    f'(AP) @[ IoU=0.50      | area=   all | maxDets={max_det_h} ]',\n",
        "                    f'(AP) @[ IoU=0.75      | area=   all | maxDets={max_det_h} ]',\n",
        "                    f'(AP) @[ IoU={iou_low}:{iou_high} | area= small | maxDets={max_det_h} ]',\n",
        "                    f'(AP) @[ IoU={iou_low}:{iou_high} | area=medium | maxDets={max_det_h} ]',\n",
        "                    f'(AP) @[ IoU={iou_low}:{iou_high} | area= large | maxDets={max_det_h} ]',\n",
        "                    f'(AR) @[ IoU={iou_low}:{iou_high} | area=   all | maxDets={max_det_l} ]',\n",
        "                    f'(AR) @[ IoU={iou_low}:{iou_high} | area=   all | maxDets={max_det_m} ]',\n",
        "                    f'(AR) @[ IoU={iou_low}:{iou_high} | area= small | maxDets={max_det_h} ]',\n",
        "                    f'(AR) @[ IoU={iou_low}:{iou_high} | area=medium | maxDets={max_det_h} ]',\n",
        "                    f'(AR) @[ IoU={iou_low}:{iou_high} | area= large | maxDets={max_det_h} ]',\n",
        "                ]\n",
        "                self.log_dict(dict(zip(legends,res)), on_epoch=True, prog_bar=False, logger=True)\n",
        "                mAP, mAP50, mAP75 = res[:3]\n",
        "            else:\n",
        "                mAP, mAP50, mAP75 = 0, 0, 0\n",
        "            self.log('mean AP', mAP, on_epoch=True, logger=True, prog_bar=True)\n",
        "            self.log('mean AP (50)', mAP50, on_epoch=True, logger=True, prog_bar=True)\n",
        "            self.log('mean AP (75)', mAP75, on_epoch=True, logger=True, prog_bar=True)\n",
        "        self.init_evaluator(self.gt)\n",
        "    \n",
        "    def configure_optimizers(self):\n",
        "        args = self.args\n",
        "        model_without_ddp = self.model\n",
        "        param_dicts = [\n",
        "            {\"params\": [p for n, p in model_without_ddp.named_parameters() if \"backbone\" not in n and p.requires_grad]},\n",
        "            {\n",
        "                \"params\": [p for n, p in model_without_ddp.named_parameters() if \"backbone\" in n and p.requires_grad],\n",
        "                \"lr\": args.lr_backbone,\n",
        "            },\n",
        "        ]\n",
        "        optimizer = torch.optim.AdamW(param_dicts, lr=args.lr,\n",
        "                                      weight_decay=args.weight_decay)\n",
        "        lr_scheduler = torch.optim.lr_scheduler.StepLR(optimizer, args.lr_drop)\n",
        "        return dict(\n",
        "            optimizer=optimizer,\n",
        "            lr_scheduler=lr_scheduler,\n",
        "        )\n",
        "\n",
        "class DETRPreprocess(nn.Module):\n",
        "    __constants__ = ['mean','std','scale']\n",
        "    def __init__(self):\n",
        "        super().__init__()\n",
        "        mean = torch.tensor([0.485, 0.456, 0.406]).reshape(-1,1,1)\n",
        "        std  = torch.tensor([0.229, 0.224, 0.225]).reshape(-1,1,1)\n",
        "        scale = torch.tensor([255.],dtype=torch.float32)\n",
        "        self.register_buffer('mean', mean)\n",
        "        self.register_buffer('std', std)\n",
        "        self.register_buffer('scale', scale)\n",
        "    \n",
        "    def forward(self, x):\n",
        "        x = torch.flip(x,[-1])\n",
        "        x = x.permute(0,3,1,2)\n",
        "        x = x.div(self.scale)\n",
        "        x = x.sub_(self.mean).div_(self.std)\n",
        "        return x\n",
        "\n",
        "class DETRPostProcess(nn.Module):\n",
        "    def __init__(self):\n",
        "        super().__init__()\n",
        "\n",
        "    def box_cxcywh_to_xyxy(self, x):\n",
        "        x_c, y_c, w, h = x.unbind(1)\n",
        "        b = [(x_c - 0.5 * w), (y_c - 0.5 * h),\n",
        "            (x_c + 0.5 * w), (y_c + 0.5 * h)]\n",
        "        return torch.stack(b, dim=1)\n",
        "    \n",
        "    def forward(self, outputs, score_threshold):\n",
        "        out_logits, out_bbox = outputs['pred_logits'], outputs['pred_boxes']\n",
        "\n",
        "        prob = torch.nn.functional.softmax(out_logits, -1)\n",
        "        scores, labels = prob[..., :-1].max(-1)\n",
        "\n",
        "        keep = scores > score_threshold\n",
        "        keep = keep.nonzero()[...,-1]\n",
        "        out_bbox = torch.index_select(out_bbox,index=keep,dim=1)\n",
        "        scores = torch.index_select(scores,index=keep,dim=1).unsqueeze(-1)\n",
        "        labels = torch.index_select(labels,index=keep,dim=1).float().unsqueeze(-1)\n",
        "        bboxes = self.box_cxcywh_to_xyxy(out_bbox.squeeze(0)).unsqueeze(0)\n",
        "        return torch.cat((bboxes,scores,labels),-1)\n",
        "\n",
        "class DETRInference(nn.Module):\n",
        "    def __init__(self,args, torch_path=None):\n",
        "        super().__init__()\n",
        "        self.detr = DETR(args)\n",
        "        self.preprocess  = DETRPreprocess()\n",
        "        self.postprocess = DETRPostProcess()\n",
        "        if torch_path is not None:\n",
        "            self.detr.load_state_dict(torch.load(torch_path, map_location=torch.device('cpu')))\n",
        "\n",
        "    def forward(self, x, score_threshold):\n",
        "        x = self.preprocess(x)\n",
        "        output = self.detr(x)\n",
        "        x = {'pred_logits':output['pred_logits'],\n",
        "             'pred_boxes' : output['pred_boxes']}\n",
        "        x = self.postprocess(x,score_threshold)\n",
        "        return x\n",
        "\n",
        "output.clear()\n",
        "print(\"Package has been set up!\")"
      ],
      "execution_count": 74,
      "outputs": [
        {
          "output_type": "stream",
          "name": "stdout",
          "text": [
            "Package has been set up!\n"
          ]
        }
      ]
    },
    {
      "cell_type": "code",
      "metadata": {
        "colab": {
          "base_uri": "https://localhost:8080/"
        },
        "id": "KJ2Nchor2er7",
        "outputId": "3d4904bd-6bfb-4622-c007-75dfdece8d08"
      },
      "source": [
        "# Create helper function\n",
        "def build_trainer(args: dict):\n",
        "    args = EasyDict(args['trainer'])\n",
        "    loggers = [\n",
        "        pl.loggers.TensorBoardLogger('logs/'),\n",
        "    ]\n",
        "    callbacks = [\n",
        "        EarlyStopping(monitor='train_loss', patience=5, \n",
        "                      verbose=True, mode='auto'),\n",
        "    ]\n",
        "    trainer = pl.Trainer(\n",
        "        max_epochs=args.max_epochs, gpus=args.gpus, logger=loggers,\n",
        "        check_val_every_n_epoch=args.check_val_every_n_epoch,\n",
        "        callbacks=callbacks\n",
        "    )\n",
        "    return trainer\n",
        "\n",
        "def load_state_dict(backbone):\n",
        "    if backbone=='resnet50':\n",
        "        state_dict = torch.hub.load_state_dict_from_url(\n",
        "            url='https://dl.fbaipublicfiles.com/detr/detr-r50-e632da11.pth',\n",
        "            map_location='cpu', check_hash=True)\n",
        "        return state_dict\n",
        "\n",
        "def test_image(filename, as_numpy=True):\n",
        "    img = Image.open(filename)\n",
        "    if as_numpy:\n",
        "        img = np.array(img)\n",
        "        img = np.expand_dims(img,0)\n",
        "    return img\n",
        "\n",
        "def main(args: dict, filename_torch, filename_onnx,\n",
        "         test_image_source, classes, size):\n",
        "    dataset = DataLoader(args)\n",
        "    args.update({'num_classes': dataset.num_classes})\n",
        "    model = DETR(args)\n",
        "    state_dict = load_state_dict(args['backbone'])\n",
        "    if state_dict is not None:\n",
        "        if dataset.num_classes == 91:\n",
        "            model.model.load_state_dict(state_dict['model'], strict=True)\n",
        "        else:\n",
        "            filtered = list(filter(lambda x: 'class_embed' not in x, state_dict['model'].keys()))\n",
        "            state_dict = {key: state_dict['model'][key] for key in filtered}\n",
        "            model.model.load_state_dict(state_dict, strict=False)\n",
        "    trainer = build_trainer(args)\n",
        "    val_gt = dataset.val_coco_fmt\n",
        "    model.init_evaluator(val_gt)\n",
        "    trainer.fit(model, dataset)\n",
        "    torch.save(model.state_dict(), filename_torch)\n",
        "\n",
        "    detr = DETRInference(args, filename_torch)\n",
        "    detr.eval()\n",
        "    img = test_image(test_image_source)\n",
        "    img = cv2.resize(img[0], size[::-1])\n",
        "    img = torch.from_numpy(img).unsqueeze(0)\n",
        "    export_args = dict(\n",
        "        input_names=[\"input\", \"score_threshold\"],\n",
        "        output_names=[\"output\"],\n",
        "        opset_version=11,\n",
        "    )\n",
        "    example_input = (img, torch.tensor([0.7]))\n",
        "    torch.onnx.export(detr,example_input,filename_onnx,**export_args)\n",
        "    output_format = dict(\n",
        "        bounding_box=dict(\n",
        "            indices=[0,1,2,3],\n",
        "            axis=1,\n",
        "        ),\n",
        "        class_confidence=dict(\n",
        "            indices=[4],\n",
        "            axis=1,\n",
        "        ),\n",
        "        class_label=dict(\n",
        "            indices=[5],\n",
        "            axis=1,\n",
        "        )\n",
        "    )\n",
        "    class_names = classes\n",
        "    model_props = dict(\n",
        "        output_format=output_format,\n",
        "        class_names=class_names,\n",
        "    )\n",
        "    f = g.EmbedModelProperty(model_props)\n",
        "    model = onnx.load(filename_onnx)\n",
        "    model = f(model)\n",
        "    onnx.save(model, filename_onnx)\n",
        "\n",
        "def inference(filename_onnx, test_image_source):\n",
        "    img = test_image(test_image_source)\n",
        "    img = np.flip(img,-1)\n",
        "    img = cv2.resize(img[0],size[::-1])[None,...]\n",
        "\n",
        "    kwargs = dict(\n",
        "        model_path=filename_onnx,\n",
        "        runtime='cpu',\n",
        "    )\n",
        "    rt = InferenceHelper.create_runtime_model(**kwargs)\n",
        "\n",
        "    kwargs = dict(\n",
        "        score_threshold=0.3,\n",
        "        visualize=True,\n",
        "    )\n",
        "    result = rt(img,**kwargs)\n",
        "    print(result['prediction'])\n",
        "\n",
        "    if 'visualization' in result:\n",
        "        visual = result['visualization'][0]\n",
        "        visual = np.flip(visual,2)\n",
        "        plt.imshow(visual)\n",
        "        plt.show()\n",
        "\n",
        "output.clear()\n",
        "print(\"Helper function has been set up!\")"
      ],
      "execution_count": 75,
      "outputs": [
        {
          "output_type": "stream",
          "name": "stdout",
          "text": [
            "Helper function has been set up!\n"
          ]
        }
      ]
    },
    {
      "cell_type": "code",
      "metadata": {
        "colab": {
          "base_uri": "https://localhost:8080/"
        },
        "id": "zm8LFnJurVfg",
        "outputId": "8cd2804e-a7f3-412b-a8b2-8635f1bbdae4"
      },
      "source": [
        "# Set Hyperparameters\n",
        "size = (480, 640)\n",
        "classes = [\"Nan\", \"Weapon\"]\n",
        "filename_torch = \"saved_model_torch.pth\"\n",
        "filename_onnx = \"saved_model_onnx.onnx\"\n",
        "test_image_source = \"weapon0.jpg\"\n",
        "\n",
        "output.clear()\n",
        "print(\"Hyperparameters has been set up!\")"
      ],
      "execution_count": 76,
      "outputs": [
        {
          "output_type": "stream",
          "name": "stdout",
          "text": [
            "Hyperparameters has been set up!\n"
          ]
        }
      ]
    },
    {
      "cell_type": "code",
      "metadata": {
        "colab": {
          "base_uri": "https://localhost:8080/",
          "height": 1000,
          "referenced_widgets": [
            "5b5fd18494c141ac93dc90b3954fc985",
            "39c5b37099604781a24bdd75943744b3",
            "63cb999ab93947b3b569455e57997565",
            "39eed6b7a9de46e181d4eca7e8c98998",
            "55b7ad6b85034bccab92f79938ee77d7",
            "fac211276e99450abeab417dd0f24dc9",
            "cafaa54815d54a49b6f913664c8fc84a",
            "a1085324981c4f51b2542c4d09e56ea7",
            "e120ba646bdf48168413f0db06e000cd",
            "f871e02273084d75a39c95cb27dd0c87",
            "7cbc0d73c37748cfbd5c41707402062e",
            "fc133d488f9c46c6b1faee479190b8e0",
            "29761b9a7d554268820145a0b06e78e7",
            "8e952a965c124046943b607002148ffe",
            "319ba7004cec47059c41d0b267ce4b5e",
            "889f1e474e544cb180170441bbed5c86",
            "a46502e9f22c4dd0a6e144288e922a01",
            "ac83187797f94403ab48b6a83a1ebac3",
            "074c52d8a8504069a74373af6598cbd6",
            "d227c0b959d748dc8852943f011fdc20",
            "f4fe65559fc64b4ca1f15189fdfea510",
            "4ff5883a0571471196a6b5433cfc5928",
            "7ff85f402fa041ca93cf4b76a2efb6c7",
            "73c3f77ffe1241a68cceb063275516f7"
          ]
        },
        "id": "N3JWpjag2Zmk",
        "outputId": "e04230ef-2237-42d8-97e2-e483a91a8b31"
      },
      "source": [
        "# Train model\n",
        "if hasattr(__builtins__,'__IPYTHON__'):\n",
        "    config_file = 'config.yml'\n",
        "else:\n",
        "    parser = argparse.ArgumentParser()\n",
        "    parser.add_argument('--config',default='config.yml')\n",
        "    args = parser.parse_args()\n",
        "    config_file = args.config\n",
        "\n",
        "with open(config_file) as f:\n",
        "    args = yaml.load(f)\n",
        "\n",
        "main(args, filename_torch, filename_onnx, \n",
        "     test_image_source, classes, size)\n",
        "inference(filename_onnx, test_image_source)"
      ],
      "execution_count": 77,
      "outputs": [
        {
          "output_type": "stream",
          "name": "stderr",
          "text": [
            "/usr/local/lib/python3.7/dist-packages/ipykernel_launcher.py:11: YAMLLoadWarning:\n",
            "\n",
            "calling yaml.load() without Loader=... is deprecated, as the default Loader is unsafe. Please read https://msg.pyyaml.org/load for full details.\n",
            "\n"
          ]
        },
        {
          "output_type": "stream",
          "name": "stdout",
          "text": [
            "loading annotations into memory...\n",
            "Done (t=0.04s)\n",
            "creating index...\n",
            "index created!\n",
            "loading annotations into memory...\n",
            "Done (t=0.35s)\n",
            "creating index...\n",
            "index created!\n",
            "loading annotations into memory...\n",
            "Done (t=0.04s)\n",
            "creating index...\n",
            "index created!\n"
          ]
        },
        {
          "output_type": "stream",
          "name": "stderr",
          "text": [
            "EarlyStopping mode set to min for monitoring train_loss.\n",
            "/usr/local/lib/python3.7/dist-packages/pytorch_lightning/utilities/distributed.py:49: UserWarning:\n",
            "\n",
            "You have set progress_bar_refresh_rate < 20 on Google Colab. This may crash. Consider using progress_bar_refresh_rate >= 20 in Trainer.\n",
            "\n",
            "GPU available: True, used: True\n",
            "TPU available: None, using: 0 TPU cores\n",
            "LOCAL_RANK: 0 - CUDA_VISIBLE_DEVICES: [0]\n",
            "\n",
            "  | Name      | Type         | Params\n",
            "-------------------------------------------\n",
            "0 | model     | DETR         | 41.5 M\n",
            "1 | criterion | SetCriterion | 0     \n",
            "-------------------------------------------\n",
            "41.3 M    Trainable params\n",
            "222 K     Non-trainable params\n",
            "41.5 M    Total params\n"
          ]
        },
        {
          "output_type": "display_data",
          "data": {
            "application/vnd.jupyter.widget-view+json": {
              "model_id": "5b5fd18494c141ac93dc90b3954fc985",
              "version_minor": 0,
              "version_major": 2
            },
            "text/plain": [
              "HBox(children=(FloatProgress(value=1.0, bar_style='info', description='Validation sanity check', layout=Layout…"
            ]
          },
          "metadata": {}
        },
        {
          "output_type": "display_data",
          "data": {
            "application/vnd.jupyter.widget-view+json": {
              "model_id": "e120ba646bdf48168413f0db06e000cd",
              "version_minor": 0,
              "version_major": 2
            },
            "text/plain": [
              "HBox(children=(FloatProgress(value=1.0, bar_style='info', description='Training', layout=Layout(flex='2'), max…"
            ]
          },
          "metadata": {}
        },
        {
          "output_type": "display_data",
          "data": {
            "application/vnd.jupyter.widget-view+json": {
              "model_id": "a46502e9f22c4dd0a6e144288e922a01",
              "version_minor": 0,
              "version_major": 2
            },
            "text/plain": [
              "HBox(children=(FloatProgress(value=1.0, bar_style='info', description='Validating', layout=Layout(flex='2'), m…"
            ]
          },
          "metadata": {}
        },
        {
          "output_type": "stream",
          "name": "stdout",
          "text": [
            "\n"
          ]
        },
        {
          "output_type": "stream",
          "name": "stderr",
          "text": [
            "/usr/local/lib/python3.7/dist-packages/torch/tensor.py:455: RuntimeWarning:\n",
            "\n",
            "Iterating over a tensor might cause the trace to be incorrect. Passing a tensor of different shape won't change the number of iterations executed (and might lead to errors or silently give incorrect results).\n",
            "\n",
            "/usr/local/lib/python3.7/dist-packages/ipykernel_launcher.py:201: UserWarning:\n",
            "\n",
            "This overload of nonzero is deprecated:\n",
            "\tnonzero()\n",
            "Consider using one of the following signatures instead:\n",
            "\tnonzero(*, bool as_tuple) (Triggered internally at  /pytorch/torch/csrc/utils/python_arg_parser.cpp:766.)\n",
            "\n"
          ]
        },
        {
          "output_type": "stream",
          "name": "stdout",
          "text": [
            "[OrderedDict([('bounding_box', None), ('class_confidence', None), ('class_label', None)])]\n"
          ]
        },
        {
          "output_type": "display_data",
          "data": {
            "image/png": "[encoded data removed]",
            "text/plain": [
              "<Figure size 432x288 with 1 Axes>"
            ]
          },
          "metadata": {
            "needs_background": "light"
          }
        }
      ]
    },
    {
      "cell_type": "code",
      "metadata": {
        "id": "QAMPvQ3wbhq5"
      },
      "source": [
        ""
      ],
      "execution_count": null,
      "outputs": []
    },
    {
      "cell_type": "code",
      "metadata": {
        "id": "V1k1Ez9pbilx"
      },
      "source": [
        ""
      ],
      "execution_count": null,
      "outputs": []
    }
  ]
}